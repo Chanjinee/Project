{
  "cells": [
    {
      "cell_type": "markdown",
      "metadata": {
        "id": "view-in-github",
        "colab_type": "text"
      },
      "source": [
        "<a href=\"https://colab.research.google.com/github/Chanjinee/Project/blob/main/Text%20Mining/Crawling_2.ipynb\" target=\"_parent\"><img src=\"https://colab.research.google.com/assets/colab-badge.svg\" alt=\"Open In Colab\"/></a>"
      ]
    },
    {
      "cell_type": "code",
      "execution_count": 1,
      "metadata": {
        "scrolled": true,
        "id": "zUtMAMYm5YuL"
      },
      "outputs": [],
      "source": [
        "import pandas as pd\n",
        "from tqdm import tqdm\n",
        "import requests\n",
        "from bs4 import BeautifulSoup"
      ]
    },
    {
      "cell_type": "code",
      "source": [
        "# 저장할 데이터 프레임 생성\n",
        "data = pd.DataFrame(data=[], columns=['순위','날짜','제목','아이디','거주구분', '평수', '지역', '포스팅내용'])"
      ],
      "metadata": {
        "id": "TtPGhzCjBIIi"
      },
      "execution_count": 2,
      "outputs": []
    },
    {
      "cell_type": "code",
      "source": [
        "url = 'https://ohou.se/projects?writer=self&order=popular'\n",
        "print(url)\n",
        "req = requests.get(url)\n",
        "# 크롤링을 위한 준비\n",
        "soup = BeautifulSoup(req.text, 'html.parser')"
      ],
      "metadata": {
        "colab": {
          "base_uri": "https://localhost:8080/"
        },
        "id": "AUCFb_TsJdru",
        "outputId": "acdb457c-beb4-4f5e-cdc4-572e7d95f802"
      },
      "execution_count": 3,
      "outputs": [
        {
          "output_type": "stream",
          "name": "stdout",
          "text": [
            "https://ohou.se/projects?writer=self&order=popular\n"
          ]
        }
      ]
    },
    {
      "cell_type": "code",
      "source": [
        "# url = 'https://ohou.se/projects/62650/detail?affect_type=ProjectSelfIndex&affect_id=1'\n",
        "# print(url)\n",
        "# req = requests.get(url)\n",
        "# # 크롤링을 위한 준비\n",
        "# soup = BeautifulSoup(req.text, 'html.parser')"
      ],
      "metadata": {
        "colab": {
          "base_uri": "https://localhost:8080/"
        },
        "id": "ELjvpzUuMxMo",
        "outputId": "9baf43d7-3158-4c4b-fd44-da9cc5944ade"
      },
      "execution_count": 4,
      "outputs": [
        {
          "output_type": "stream",
          "name": "stdout",
          "text": [
            "https://ohou.se/projects/62650/detail?affect_type=ProjectSelfIndex&affect_id=1\n"
          ]
        }
      ]
    },
    {
      "cell_type": "code",
      "source": [
        "link = soup.select('h1.project-feed__item__title')#['href']#[0].text # 아이디\n",
        "print(link)"
      ],
      "metadata": {
        "colab": {
          "base_uri": "https://localhost:8080/"
        },
        "id": "fkslZfPuJRFB",
        "outputId": "ef0287c3-9f5d-41c8-9149-8f00a1e52315"
      },
      "execution_count": 5,
      "outputs": [
        {
          "output_type": "stream",
          "name": "stdout",
          "text": [
            "[]\n"
          ]
        }
      ]
    },
    {
      "cell_type": "code",
      "source": [
        "def collector(data, k):\n",
        "  url = 'https://ohou.se/projects/62650/detail?affect_type=ProjectSelfIndex&affect_id=' + str(k) # 반복\n",
        "  print(url)\n",
        "  req = requests.get(url)\n",
        "  # 크롤링을 위한 준비\n",
        "  soup = BeautifulSoup(req.text, 'html.parser')\n",
        "\n",
        "  # 수집할 내용들\n",
        "  date = soup.select('div.content-detail-header__author-date')[0].text.replace(' ','') # 날짜 / 공백 없애줌\n",
        "  title = soup.select('h1')[0].text # 제목\n",
        "  id = soup.select('div.content-detail-header__author-name')[0].text # 아이디\n",
        "  cat = soup.select('div.project-detail-metadata-detail-item > dd')[0].text # 거주구분\n",
        "  size = soup.select('div.project-detail-metadata-detail-item > dd')[1].text # 평수\n",
        "  city = soup.select('div.project-detail-metadata-detail-item > dd')[5].text # 지역\n",
        "  p = [soup.select('p')[i].text.replace('\\xa0',' ').replace(\"'\",\"\") for i in range(1,len(soup.select('p')))] # 포스팅 내용\n",
        "  p = ' '.join(p)\n",
        "\n",
        "  # data에 저장\n",
        "  temp = []\n",
        "  temp.append((k, date,title,id,cat,size,city,p))\n",
        "  temp = pd.DataFrame(temp, columns=('순위','날짜','제목','아이디','거주구분', '평수', '지역', '포스팅내용'))\n",
        "  data = pd.concat([data,temp])\n",
        "\n",
        "  print(str(k) + '번째 포스팅글 수집 끝')\n",
        "\n",
        "  return data"
      ],
      "metadata": {
        "id": "bzZbSWnb_jLC"
      },
      "execution_count": 3,
      "outputs": []
    },
    {
      "cell_type": "code",
      "source": [
        "for k in tqdm(range(10)):\n",
        "  data = collector(data,k)"
      ],
      "metadata": {
        "colab": {
          "base_uri": "https://localhost:8080/"
        },
        "id": "1atUrt88FAvQ",
        "outputId": "f9006884-2309-4181-ff4a-e9acda5416fb"
      },
      "execution_count": 4,
      "outputs": [
        {
          "output_type": "stream",
          "name": "stderr",
          "text": [
            "\r  0%|          | 0/10 [00:00<?, ?it/s]"
          ]
        },
        {
          "output_type": "stream",
          "name": "stdout",
          "text": [
            "https://ohou.se/projects/62650/detail?affect_type=ProjectSelfIndex&affect_id=0\n"
          ]
        },
        {
          "output_type": "stream",
          "name": "stderr",
          "text": [
            "\r 10%|█         | 1/10 [00:02<00:20,  2.31s/it]"
          ]
        },
        {
          "output_type": "stream",
          "name": "stdout",
          "text": [
            "0번째 포스팅글 수집 끝\n",
            "https://ohou.se/projects/62650/detail?affect_type=ProjectSelfIndex&affect_id=1\n"
          ]
        },
        {
          "output_type": "stream",
          "name": "stderr",
          "text": [
            "\r 20%|██        | 2/10 [00:04<00:17,  2.23s/it]"
          ]
        },
        {
          "output_type": "stream",
          "name": "stdout",
          "text": [
            "1번째 포스팅글 수집 끝\n",
            "https://ohou.se/projects/62650/detail?affect_type=ProjectSelfIndex&affect_id=2\n"
          ]
        },
        {
          "output_type": "stream",
          "name": "stderr",
          "text": [
            "\r 30%|███       | 3/10 [00:06<00:13,  1.97s/it]"
          ]
        },
        {
          "output_type": "stream",
          "name": "stdout",
          "text": [
            "2번째 포스팅글 수집 끝\n",
            "https://ohou.se/projects/62650/detail?affect_type=ProjectSelfIndex&affect_id=3\n"
          ]
        },
        {
          "output_type": "stream",
          "name": "stderr",
          "text": [
            "\r 40%|████      | 4/10 [00:07<00:10,  1.72s/it]"
          ]
        },
        {
          "output_type": "stream",
          "name": "stdout",
          "text": [
            "3번째 포스팅글 수집 끝\n",
            "https://ohou.se/projects/62650/detail?affect_type=ProjectSelfIndex&affect_id=4\n"
          ]
        },
        {
          "output_type": "stream",
          "name": "stderr",
          "text": [
            "\r 50%|█████     | 5/10 [00:08<00:07,  1.58s/it]"
          ]
        },
        {
          "output_type": "stream",
          "name": "stdout",
          "text": [
            "4번째 포스팅글 수집 끝\n",
            "https://ohou.se/projects/62650/detail?affect_type=ProjectSelfIndex&affect_id=5\n"
          ]
        },
        {
          "output_type": "stream",
          "name": "stderr",
          "text": [
            "\r 60%|██████    | 6/10 [00:10<00:06,  1.52s/it]"
          ]
        },
        {
          "output_type": "stream",
          "name": "stdout",
          "text": [
            "5번째 포스팅글 수집 끝\n",
            "https://ohou.se/projects/62650/detail?affect_type=ProjectSelfIndex&affect_id=6\n"
          ]
        },
        {
          "output_type": "stream",
          "name": "stderr",
          "text": [
            "\r 70%|███████   | 7/10 [00:11<00:04,  1.47s/it]"
          ]
        },
        {
          "output_type": "stream",
          "name": "stdout",
          "text": [
            "6번째 포스팅글 수집 끝\n",
            "https://ohou.se/projects/62650/detail?affect_type=ProjectSelfIndex&affect_id=7\n"
          ]
        },
        {
          "output_type": "stream",
          "name": "stderr",
          "text": [
            "\r 80%|████████  | 8/10 [00:12<00:02,  1.45s/it]"
          ]
        },
        {
          "output_type": "stream",
          "name": "stdout",
          "text": [
            "7번째 포스팅글 수집 끝\n",
            "https://ohou.se/projects/62650/detail?affect_type=ProjectSelfIndex&affect_id=8\n"
          ]
        },
        {
          "output_type": "stream",
          "name": "stderr",
          "text": [
            "\r 90%|█████████ | 9/10 [00:14<00:01,  1.42s/it]"
          ]
        },
        {
          "output_type": "stream",
          "name": "stdout",
          "text": [
            "8번째 포스팅글 수집 끝\n",
            "https://ohou.se/projects/62650/detail?affect_type=ProjectSelfIndex&affect_id=9\n"
          ]
        },
        {
          "output_type": "stream",
          "name": "stderr",
          "text": [
            "100%|██████████| 10/10 [00:15<00:00,  1.57s/it]"
          ]
        },
        {
          "output_type": "stream",
          "name": "stdout",
          "text": [
            "9번째 포스팅글 수집 끝\n"
          ]
        },
        {
          "output_type": "stream",
          "name": "stderr",
          "text": [
            "\n"
          ]
        }
      ]
    },
    {
      "cell_type": "code",
      "source": [
        "data"
      ],
      "metadata": {
        "colab": {
          "base_uri": "https://localhost:8080/",
          "height": 363
        },
        "id": "Y2oieUHFFOlK",
        "outputId": "72063e67-540d-482b-ab70-557077298645"
      },
      "execution_count": 5,
      "outputs": [
        {
          "output_type": "execute_result",
          "data": {
            "text/plain": [
              "  순위        날짜                              제목        아이디 거주구분   평수  \\\n",
              "0  0  21.10.06  계획서만 50장! 내 머릿 속 인테리어,그대로 실현하기  to-mohome  아파트  33평   \n",
              "0  1  21.10.06  계획서만 50장! 내 머릿 속 인테리어,그대로 실현하기  to-mohome  아파트  33평   \n",
              "0  2  21.10.06  계획서만 50장! 내 머릿 속 인테리어,그대로 실현하기  to-mohome  아파트  33평   \n",
              "0  3  21.10.06  계획서만 50장! 내 머릿 속 인테리어,그대로 실현하기  to-mohome  아파트  33평   \n",
              "0  4  21.10.06  계획서만 50장! 내 머릿 속 인테리어,그대로 실현하기  to-mohome  아파트  33평   \n",
              "0  5  21.10.06  계획서만 50장! 내 머릿 속 인테리어,그대로 실현하기  to-mohome  아파트  33평   \n",
              "0  6  21.10.06  계획서만 50장! 내 머릿 속 인테리어,그대로 실현하기  to-mohome  아파트  33평   \n",
              "0  7  21.10.06  계획서만 50장! 내 머릿 속 인테리어,그대로 실현하기  to-mohome  아파트  33평   \n",
              "0  8  21.10.06  계획서만 50장! 내 머릿 속 인테리어,그대로 실현하기  to-mohome  아파트  33평   \n",
              "0  9  21.10.06  계획서만 50장! 내 머릿 속 인테리어,그대로 실현하기  to-mohome  아파트  33평   \n",
              "\n",
              "          지역                                              포스팅내용  \n",
              "0  대구광역시 달성군  안녕하세요. 오늘의 집에 첫 집들이를 소개하게 된 \"투모\"입니다. 얼마 전 새로 이...  \n",
              "0  대구광역시 달성군  안녕하세요. 오늘의 집에 첫 집들이를 소개하게 된 \"투모\"입니다. 얼마 전 새로 이...  \n",
              "0  대구광역시 달성군  안녕하세요. 오늘의 집에 첫 집들이를 소개하게 된 \"투모\"입니다. 얼마 전 새로 이...  \n",
              "0  대구광역시 달성군  안녕하세요. 오늘의 집에 첫 집들이를 소개하게 된 \"투모\"입니다. 얼마 전 새로 이...  \n",
              "0  대구광역시 달성군  안녕하세요. 오늘의 집에 첫 집들이를 소개하게 된 \"투모\"입니다. 얼마 전 새로 이...  \n",
              "0  대구광역시 달성군  안녕하세요. 오늘의 집에 첫 집들이를 소개하게 된 \"투모\"입니다. 얼마 전 새로 이...  \n",
              "0  대구광역시 달성군  안녕하세요. 오늘의 집에 첫 집들이를 소개하게 된 \"투모\"입니다. 얼마 전 새로 이...  \n",
              "0  대구광역시 달성군  안녕하세요. 오늘의 집에 첫 집들이를 소개하게 된 \"투모\"입니다. 얼마 전 새로 이...  \n",
              "0  대구광역시 달성군  안녕하세요. 오늘의 집에 첫 집들이를 소개하게 된 \"투모\"입니다. 얼마 전 새로 이...  \n",
              "0  대구광역시 달성군  안녕하세요. 오늘의 집에 첫 집들이를 소개하게 된 \"투모\"입니다. 얼마 전 새로 이...  "
            ],
            "text/html": [
              "\n",
              "  <div id=\"df-1fd6862b-74a2-4c88-a0d8-3dc40dc62337\">\n",
              "    <div class=\"colab-df-container\">\n",
              "      <div>\n",
              "<style scoped>\n",
              "    .dataframe tbody tr th:only-of-type {\n",
              "        vertical-align: middle;\n",
              "    }\n",
              "\n",
              "    .dataframe tbody tr th {\n",
              "        vertical-align: top;\n",
              "    }\n",
              "\n",
              "    .dataframe thead th {\n",
              "        text-align: right;\n",
              "    }\n",
              "</style>\n",
              "<table border=\"1\" class=\"dataframe\">\n",
              "  <thead>\n",
              "    <tr style=\"text-align: right;\">\n",
              "      <th></th>\n",
              "      <th>순위</th>\n",
              "      <th>날짜</th>\n",
              "      <th>제목</th>\n",
              "      <th>아이디</th>\n",
              "      <th>거주구분</th>\n",
              "      <th>평수</th>\n",
              "      <th>지역</th>\n",
              "      <th>포스팅내용</th>\n",
              "    </tr>\n",
              "  </thead>\n",
              "  <tbody>\n",
              "    <tr>\n",
              "      <th>0</th>\n",
              "      <td>0</td>\n",
              "      <td>21.10.06</td>\n",
              "      <td>계획서만 50장! 내 머릿 속 인테리어,그대로 실현하기</td>\n",
              "      <td>to-mohome</td>\n",
              "      <td>아파트</td>\n",
              "      <td>33평</td>\n",
              "      <td>대구광역시 달성군</td>\n",
              "      <td>안녕하세요. 오늘의 집에 첫 집들이를 소개하게 된 \"투모\"입니다. 얼마 전 새로 이...</td>\n",
              "    </tr>\n",
              "    <tr>\n",
              "      <th>0</th>\n",
              "      <td>1</td>\n",
              "      <td>21.10.06</td>\n",
              "      <td>계획서만 50장! 내 머릿 속 인테리어,그대로 실현하기</td>\n",
              "      <td>to-mohome</td>\n",
              "      <td>아파트</td>\n",
              "      <td>33평</td>\n",
              "      <td>대구광역시 달성군</td>\n",
              "      <td>안녕하세요. 오늘의 집에 첫 집들이를 소개하게 된 \"투모\"입니다. 얼마 전 새로 이...</td>\n",
              "    </tr>\n",
              "    <tr>\n",
              "      <th>0</th>\n",
              "      <td>2</td>\n",
              "      <td>21.10.06</td>\n",
              "      <td>계획서만 50장! 내 머릿 속 인테리어,그대로 실현하기</td>\n",
              "      <td>to-mohome</td>\n",
              "      <td>아파트</td>\n",
              "      <td>33평</td>\n",
              "      <td>대구광역시 달성군</td>\n",
              "      <td>안녕하세요. 오늘의 집에 첫 집들이를 소개하게 된 \"투모\"입니다. 얼마 전 새로 이...</td>\n",
              "    </tr>\n",
              "    <tr>\n",
              "      <th>0</th>\n",
              "      <td>3</td>\n",
              "      <td>21.10.06</td>\n",
              "      <td>계획서만 50장! 내 머릿 속 인테리어,그대로 실현하기</td>\n",
              "      <td>to-mohome</td>\n",
              "      <td>아파트</td>\n",
              "      <td>33평</td>\n",
              "      <td>대구광역시 달성군</td>\n",
              "      <td>안녕하세요. 오늘의 집에 첫 집들이를 소개하게 된 \"투모\"입니다. 얼마 전 새로 이...</td>\n",
              "    </tr>\n",
              "    <tr>\n",
              "      <th>0</th>\n",
              "      <td>4</td>\n",
              "      <td>21.10.06</td>\n",
              "      <td>계획서만 50장! 내 머릿 속 인테리어,그대로 실현하기</td>\n",
              "      <td>to-mohome</td>\n",
              "      <td>아파트</td>\n",
              "      <td>33평</td>\n",
              "      <td>대구광역시 달성군</td>\n",
              "      <td>안녕하세요. 오늘의 집에 첫 집들이를 소개하게 된 \"투모\"입니다. 얼마 전 새로 이...</td>\n",
              "    </tr>\n",
              "    <tr>\n",
              "      <th>0</th>\n",
              "      <td>5</td>\n",
              "      <td>21.10.06</td>\n",
              "      <td>계획서만 50장! 내 머릿 속 인테리어,그대로 실현하기</td>\n",
              "      <td>to-mohome</td>\n",
              "      <td>아파트</td>\n",
              "      <td>33평</td>\n",
              "      <td>대구광역시 달성군</td>\n",
              "      <td>안녕하세요. 오늘의 집에 첫 집들이를 소개하게 된 \"투모\"입니다. 얼마 전 새로 이...</td>\n",
              "    </tr>\n",
              "    <tr>\n",
              "      <th>0</th>\n",
              "      <td>6</td>\n",
              "      <td>21.10.06</td>\n",
              "      <td>계획서만 50장! 내 머릿 속 인테리어,그대로 실현하기</td>\n",
              "      <td>to-mohome</td>\n",
              "      <td>아파트</td>\n",
              "      <td>33평</td>\n",
              "      <td>대구광역시 달성군</td>\n",
              "      <td>안녕하세요. 오늘의 집에 첫 집들이를 소개하게 된 \"투모\"입니다. 얼마 전 새로 이...</td>\n",
              "    </tr>\n",
              "    <tr>\n",
              "      <th>0</th>\n",
              "      <td>7</td>\n",
              "      <td>21.10.06</td>\n",
              "      <td>계획서만 50장! 내 머릿 속 인테리어,그대로 실현하기</td>\n",
              "      <td>to-mohome</td>\n",
              "      <td>아파트</td>\n",
              "      <td>33평</td>\n",
              "      <td>대구광역시 달성군</td>\n",
              "      <td>안녕하세요. 오늘의 집에 첫 집들이를 소개하게 된 \"투모\"입니다. 얼마 전 새로 이...</td>\n",
              "    </tr>\n",
              "    <tr>\n",
              "      <th>0</th>\n",
              "      <td>8</td>\n",
              "      <td>21.10.06</td>\n",
              "      <td>계획서만 50장! 내 머릿 속 인테리어,그대로 실현하기</td>\n",
              "      <td>to-mohome</td>\n",
              "      <td>아파트</td>\n",
              "      <td>33평</td>\n",
              "      <td>대구광역시 달성군</td>\n",
              "      <td>안녕하세요. 오늘의 집에 첫 집들이를 소개하게 된 \"투모\"입니다. 얼마 전 새로 이...</td>\n",
              "    </tr>\n",
              "    <tr>\n",
              "      <th>0</th>\n",
              "      <td>9</td>\n",
              "      <td>21.10.06</td>\n",
              "      <td>계획서만 50장! 내 머릿 속 인테리어,그대로 실현하기</td>\n",
              "      <td>to-mohome</td>\n",
              "      <td>아파트</td>\n",
              "      <td>33평</td>\n",
              "      <td>대구광역시 달성군</td>\n",
              "      <td>안녕하세요. 오늘의 집에 첫 집들이를 소개하게 된 \"투모\"입니다. 얼마 전 새로 이...</td>\n",
              "    </tr>\n",
              "  </tbody>\n",
              "</table>\n",
              "</div>\n",
              "      <button class=\"colab-df-convert\" onclick=\"convertToInteractive('df-1fd6862b-74a2-4c88-a0d8-3dc40dc62337')\"\n",
              "              title=\"Convert this dataframe to an interactive table.\"\n",
              "              style=\"display:none;\">\n",
              "        \n",
              "  <svg xmlns=\"http://www.w3.org/2000/svg\" height=\"24px\"viewBox=\"0 0 24 24\"\n",
              "       width=\"24px\">\n",
              "    <path d=\"M0 0h24v24H0V0z\" fill=\"none\"/>\n",
              "    <path d=\"M18.56 5.44l.94 2.06.94-2.06 2.06-.94-2.06-.94-.94-2.06-.94 2.06-2.06.94zm-11 1L8.5 8.5l.94-2.06 2.06-.94-2.06-.94L8.5 2.5l-.94 2.06-2.06.94zm10 10l.94 2.06.94-2.06 2.06-.94-2.06-.94-.94-2.06-.94 2.06-2.06.94z\"/><path d=\"M17.41 7.96l-1.37-1.37c-.4-.4-.92-.59-1.43-.59-.52 0-1.04.2-1.43.59L10.3 9.45l-7.72 7.72c-.78.78-.78 2.05 0 2.83L4 21.41c.39.39.9.59 1.41.59.51 0 1.02-.2 1.41-.59l7.78-7.78 2.81-2.81c.8-.78.8-2.07 0-2.86zM5.41 20L4 18.59l7.72-7.72 1.47 1.35L5.41 20z\"/>\n",
              "  </svg>\n",
              "      </button>\n",
              "      \n",
              "  <style>\n",
              "    .colab-df-container {\n",
              "      display:flex;\n",
              "      flex-wrap:wrap;\n",
              "      gap: 12px;\n",
              "    }\n",
              "\n",
              "    .colab-df-convert {\n",
              "      background-color: #E8F0FE;\n",
              "      border: none;\n",
              "      border-radius: 50%;\n",
              "      cursor: pointer;\n",
              "      display: none;\n",
              "      fill: #1967D2;\n",
              "      height: 32px;\n",
              "      padding: 0 0 0 0;\n",
              "      width: 32px;\n",
              "    }\n",
              "\n",
              "    .colab-df-convert:hover {\n",
              "      background-color: #E2EBFA;\n",
              "      box-shadow: 0px 1px 2px rgba(60, 64, 67, 0.3), 0px 1px 3px 1px rgba(60, 64, 67, 0.15);\n",
              "      fill: #174EA6;\n",
              "    }\n",
              "\n",
              "    [theme=dark] .colab-df-convert {\n",
              "      background-color: #3B4455;\n",
              "      fill: #D2E3FC;\n",
              "    }\n",
              "\n",
              "    [theme=dark] .colab-df-convert:hover {\n",
              "      background-color: #434B5C;\n",
              "      box-shadow: 0px 1px 3px 1px rgba(0, 0, 0, 0.15);\n",
              "      filter: drop-shadow(0px 1px 2px rgba(0, 0, 0, 0.3));\n",
              "      fill: #FFFFFF;\n",
              "    }\n",
              "  </style>\n",
              "\n",
              "      <script>\n",
              "        const buttonEl =\n",
              "          document.querySelector('#df-1fd6862b-74a2-4c88-a0d8-3dc40dc62337 button.colab-df-convert');\n",
              "        buttonEl.style.display =\n",
              "          google.colab.kernel.accessAllowed ? 'block' : 'none';\n",
              "\n",
              "        async function convertToInteractive(key) {\n",
              "          const element = document.querySelector('#df-1fd6862b-74a2-4c88-a0d8-3dc40dc62337');\n",
              "          const dataTable =\n",
              "            await google.colab.kernel.invokeFunction('convertToInteractive',\n",
              "                                                     [key], {});\n",
              "          if (!dataTable) return;\n",
              "\n",
              "          const docLinkHtml = 'Like what you see? Visit the ' +\n",
              "            '<a target=\"_blank\" href=https://colab.research.google.com/notebooks/data_table.ipynb>data table notebook</a>'\n",
              "            + ' to learn more about interactive tables.';\n",
              "          element.innerHTML = '';\n",
              "          dataTable['output_type'] = 'display_data';\n",
              "          await google.colab.output.renderOutput(dataTable, element);\n",
              "          const docLink = document.createElement('div');\n",
              "          docLink.innerHTML = docLinkHtml;\n",
              "          element.appendChild(docLink);\n",
              "        }\n",
              "      </script>\n",
              "    </div>\n",
              "  </div>\n",
              "  "
            ]
          },
          "metadata": {},
          "execution_count": 5
        }
      ]
    },
    {
      "cell_type": "markdown",
      "source": [
        "### END"
      ],
      "metadata": {
        "id": "7NmuHTCvH5UB"
      }
    }
  ],
  "metadata": {
    "kernelspec": {
      "display_name": "DL",
      "language": "python",
      "name": "dl"
    },
    "language_info": {
      "codemirror_mode": {
        "name": "ipython",
        "version": 3
      },
      "file_extension": ".py",
      "mimetype": "text/x-python",
      "name": "python",
      "nbconvert_exporter": "python",
      "pygments_lexer": "ipython3",
      "version": "3.8.11"
    },
    "colab": {
      "name": "Crawling 2.ipynb",
      "provenance": [],
      "include_colab_link": true
    }
  },
  "nbformat": 4,
  "nbformat_minor": 0
}